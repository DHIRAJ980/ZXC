{
 "cells": [
  {
   "cell_type": "code",
   "execution_count": 2,
   "id": "a5eb0886",
   "metadata": {},
   "outputs": [],
   "source": [
    "import numpy as np\n",
    "import matplotlib.pyplot as plt"
   ]
  },
  {
   "cell_type": "code",
   "execution_count": null,
   "id": "309f9855",
   "metadata": {},
   "outputs": [],
   "source": [
    "array1 =np.array([1, 2, 3, 4, 5])\n",
    "\n",
    "#array2 =np.array([6, 7, 8, 9, 10])\n",
    "#array3 =np.array([11, 12, 13, 14, 15])\n"
   ]
  }
 ],
 "metadata": {
  "kernelspec": {
   "display_name": ".venv",
   "language": "python",
   "name": "python3"
  },
  "language_info": {
   "codemirror_mode": {
    "name": "ipython",
    "version": 3
   },
   "file_extension": ".py",
   "mimetype": "text/x-python",
   "name": "python",
   "nbconvert_exporter": "python",
   "pygments_lexer": "ipython3",
   "version": "3.13.1"
  }
 },
 "nbformat": 4,
 "nbformat_minor": 5
}
