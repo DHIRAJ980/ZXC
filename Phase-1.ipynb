{
 "cells": [
  {
   "cell_type": "markdown",
   "id": "256c826a",
   "metadata": {},
   "source": [
    "## Numpy array and basice\n",
    "learn about  numoy with chai aur code"
   ]
  },
  {
   "cell_type": "code",
   "execution_count": 16,
   "id": "b42594d0",
   "metadata": {},
   "outputs": [],
   "source": [
    "import numpy as np"
   ]
  },
  {
   "cell_type": "markdown",
   "id": "60c64aa1",
   "metadata": {},
   "source": [
    "### creating array from list"
   ]
  },
  {
   "cell_type": "code",
   "execution_count": 23,
   "id": "1bd2982a",
   "metadata": {},
   "outputs": [
    {
     "name": "stdout",
     "output_type": "stream",
     "text": [
      "1D array:  [1 2 3 4 5]\n",
      "2D array: \n",
      " [[1 2 3]\n",
      " [4 5 6]]\n"
     ]
    }
   ],
   "source": [
    "arr_1d = np.array ([1,2,3,4,5])\n",
    "print(\"1D array: \", arr_1d)\n",
    "\n",
    "arr_2d = np.array([[1, 2, 3], [4, 5, 6]])\n",
    "print(\"2D array: \\n\", arr_2d)"
   ]
  },
  {
   "cell_type": "markdown",
   "id": "b0a8a727",
   "metadata": {},
   "source": [
    "### List vs numpy array"
   ]
  },
  {
   "cell_type": "code",
   "execution_count": 6,
   "id": "00aea0c4",
   "metadata": {},
   "outputs": [
    {
     "name": "stdout",
     "output_type": "stream",
     "text": [
      "python array multiplication [1, 2, 3, 1, 2, 3]\n",
      "Pyton array multiplication [2 4 6]\n",
      "\n",
      " List operation time:  3.326500415802002\n",
      "\n",
      " Numpy operation time:  0.3002810478210449\n"
     ]
    }
   ],
   "source": [
    "py_list = [1,2,3]\n",
    "print(\"python array multiplication\", py_list *2)\n",
    "\n",
    "np_array = np.array([1,2,3])\n",
    "print(\"Pyton array multiplication\", np_array *2)\n",
    "\n",
    "import time \n",
    "start = time.time()\n",
    "py_list = [i*2 for i in range(100000000)]\n",
    "print(\"\\n List operation time: \", time .time() - start)\n",
    "\n",
    "start = time.time()\n",
    "np_array = np.arange(100000000)*2\n",
    "print(\"\\n Numpy operation time: \", time .time() - start)"
   ]
  },
  {
   "cell_type": "markdown",
   "id": "f05636ac",
   "metadata": {},
   "source": [
    "### Craeating array form scratch"
   ]
  },
  {
   "cell_type": "code",
   "execution_count": 23,
   "id": "c69e06de",
   "metadata": {},
   "outputs": [
    {
     "name": "stdout",
     "output_type": "stream",
     "text": [
      "zeros array: \n",
      " [[0. 0. 0. 0.]\n",
      " [0. 0. 0. 0.]\n",
      " [0. 0. 0. 0.]]\n",
      "ones array: \n",
      " [[1. 1. 1. 1. 1. 1. 1. 1. 1.]\n",
      " [1. 1. 1. 1. 1. 1. 1. 1. 1.]\n",
      " [1. 1. 1. 1. 1. 1. 1. 1. 1.]\n",
      " [1. 1. 1. 1. 1. 1. 1. 1. 1.]\n",
      " [1. 1. 1. 1. 1. 1. 1. 1. 1.]\n",
      " [1. 1. 1. 1. 1. 1. 1. 1. 1.]\n",
      " [1. 1. 1. 1. 1. 1. 1. 1. 1.]]\n",
      "full array: \n",
      " [[8 8 8 8 8 8]\n",
      " [8 8 8 8 8 8]\n",
      " [8 8 8 8 8 8]\n",
      " [8 8 8 8 8 8]]\n",
      "random array: \n",
      " [[0.67978745 0.60907428 0.35551206]\n",
      " [0.54043963 0.17923141 0.24067386]\n",
      " [0.10162441 0.39904851 0.55156224]\n",
      " [0.6855682  0.29203313 0.05810181]\n",
      " [0.93029548 0.40233038 0.44026708]\n",
      " [0.85181714 0.33917405 0.1276319 ]]\n",
      "sequnce array: \n",
      " [0 2 4 6 8]\n"
     ]
    }
   ],
   "source": [
    "zeros = np.zeros ((3,4))\n",
    "print(\"zeros array: \\n\", zeros)\n",
    "\n",
    "ones = np.ones ((7,9))\n",
    "print(\"ones array: \\n\", ones)\n",
    "\n",
    "full = np.full((4,6), 8)\n",
    "print(\"full array: \\n\", full)\n",
    "\n",
    "random = np.random.random ((6,3))\n",
    "print (\"random array: \\n\", random)\n",
    "\n",
    "sequence = np.arange(0,10,2)\n",
    "print(\"sequnce array: \\n\", sequence)\n"
   ]
  },
  {
   "cell_type": "markdown",
   "id": "ecf724ee",
   "metadata": {},
   "source": [
    "### Vector , Matrix and Tensor"
   ]
  },
  {
   "cell_type": "code",
   "execution_count": null,
   "id": "82e8aa3d",
   "metadata": {},
   "outputs": [
    {
     "name": "stdout",
     "output_type": "stream",
     "text": [
      "vector:  [1 2 3]\n",
      "Matrix: \n",
      " [[1 2 3]\n",
      " [4 5 6]]\n",
      "tensor: \n",
      "  [[[1 2]\n",
      "  [3 4]]\n",
      "\n",
      " [[5 6]\n",
      "  [7 8]]]\n"
     ]
    }
   ],
   "source": [
    "vector = np.array([1,2,3])\n",
    "print(\"vector: \", vector)\n",
    "\n",
    "matrix = np.array([[1,2,3],\n",
    "                   [4,5,6]])\n",
    "print(\"Matrix: \\n\", matrix)\n",
    "\n",
    "tensor = np.array([[[1,2],[3,4]],\n",
    "                   [[5,6],[7,8]]])\n",
    "print(\"tensor: \\n \", tensor)"
   ]
  }
 ],
 "metadata": {
  "kernelspec": {
   "display_name": ".venv",
   "language": "python",
   "name": "python3"
  },
  "language_info": {
   "codemirror_mode": {
    "name": "ipython",
    "version": 3
   },
   "file_extension": ".py",
   "mimetype": "text/x-python",
   "name": "python",
   "nbconvert_exporter": "python",
   "pygments_lexer": "ipython3",
   "version": "3.13.1"
  }
 },
 "nbformat": 4,
 "nbformat_minor": 5
}
