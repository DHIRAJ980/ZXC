{
 "cells": [
  {
   "cell_type": "markdown",
   "id": "8636348b",
   "metadata": {},
   "source": [
    "## Numpy Array operations"
   ]
  },
  {
   "cell_type": "code",
   "execution_count": 1,
   "id": "623ea1c9",
   "metadata": {},
   "outputs": [],
   "source": [
    "import numpy as np"
   ]
  },
  {
   "cell_type": "code",
   "execution_count": 2,
   "id": "71d96c58",
   "metadata": {},
   "outputs": [
    {
     "name": "stdout",
     "output_type": "stream",
     "text": [
      "basic Slicnig [3 4 5 6 7]\n",
      "With step [2 4 6 8]\n",
      "Negative indexing 8\n"
     ]
    }
   ],
   "source": [
    "arr = np.array([ 1, 2, 3, 4, 5, 6, 7, 8, 9, 10]) \n",
    "print(\"basic Slicnig\", arr[2:7])\n",
    "print(\"With step\", arr[1:8:2])\n",
    "print(\"Negative indexing\", arr [-3])"
   ]
  },
  {
   "cell_type": "code",
   "execution_count": 3,
   "id": "ce9097c3",
   "metadata": {},
   "outputs": [
    {
     "name": "stdout",
     "output_type": "stream",
     "text": [
      "Specific Element : 9\n",
      "Entire row:  [4 5 6]\n",
      "Entire row:  [3 6 9]\n"
     ]
    }
   ],
   "source": [
    "arr_2D = np.array([[1,2,3],\n",
    "                   [4,5,6],\n",
    "                   [7,8,9]])\n",
    "print(\"Specific Element :\", arr_2D[2,2])\n",
    "print(\"Entire row: \", arr_2D[1])\n",
    "print(\"Entire row: \", arr_2D[:,2])"
   ]
  },
  {
   "cell_type": "markdown",
   "id": "37c55aa7",
   "metadata": {},
   "source": [
    "## Sorting"
   ]
  },
  {
   "cell_type": "code",
   "execution_count": 4,
   "id": "3b039ce3",
   "metadata": {},
   "outputs": [
    {
     "name": "stdout",
     "output_type": "stream",
     "text": [
      "Sorted Array : [  1   3   3   7   9  21  23  43  45  45  57  66  97 232 456]\n",
      "Sorted 2D array by row : \n",
      " [[23 18 17]\n",
      " [24 43 28]\n",
      " [28 48 39]]\n"
     ]
    }
   ],
   "source": [
    "unsorted = np.array([3,57,3,97,45,23,1,45,66,232,43,21,456,9,7])\n",
    "print(\"Sorted Array :\", np.sort(unsorted))\n",
    "\n",
    "arr_2d_unsorted = np.array([[24,48,28],\n",
    "                           [23,43,17],\n",
    "                           [28,18,39]])\n",
    "print(\"Sorted 2D array by row : \\n\", np.sort(arr_2d_unsorted, axis=0))"
   ]
  },
  {
   "cell_type": "markdown",
   "id": "7743f3ad",
   "metadata": {},
   "source": [
    "## Filter"
   ]
  },
  {
   "cell_type": "code",
   "execution_count": 5,
   "id": "0fb32e01",
   "metadata": {},
   "outputs": [
    {
     "name": "stdout",
     "output_type": "stream",
     "text": [
      "Even number : \n",
      " [ 2  4  6  8 10]\n"
     ]
    }
   ],
   "source": [
    "numbers = np.array([1, 2, 3, 4, 5, 6, 7, 8,  9, 10])\n",
    "even_number = numbers[numbers % 2==0]\n",
    "print(\"Even number : \\n\", even_number)"
   ]
  },
  {
   "cell_type": "markdown",
   "id": "4d084fe6",
   "metadata": {},
   "source": [
    "## Filter with mask"
   ]
  },
  {
   "cell_type": "code",
   "execution_count": 6,
   "id": "827c13f3",
   "metadata": {},
   "outputs": [
    {
     "name": "stdout",
     "output_type": "stream",
     "text": [
      "Number greater then 5 : [ 6  7  8  9 10]\n"
     ]
    }
   ],
   "source": [
    "mask = numbers > 5\n",
    "print(\"Number greater then 5 :\", numbers[mask])"
   ]
  },
  {
   "cell_type": "markdown",
   "id": "9a882439",
   "metadata": {},
   "source": [
    "## Fancy indexing vs np.where()  "
   ]
  },
  {
   "cell_type": "code",
   "execution_count": 7,
   "id": "60fe774e",
   "metadata": {},
   "outputs": [
    {
     "name": "stdout",
     "output_type": "stream",
     "text": [
      "[1 3 5]\n",
      "(array([5, 6, 7, 8, 9]),)\n",
      "NP Where [ 6  7  8  9 10]\n"
     ]
    }
   ],
   "source": [
    "indices = [0 ,2 , 4]\n",
    "print(numbers[indices])\n",
    "\n",
    "where_result = np.where(numbers > 5)\n",
    "print(where_result)\n",
    "print(\"NP Where\", numbers[where_result])"
   ]
  },
  {
   "cell_type": "code",
   "execution_count": 8,
   "id": "d05eefcf",
   "metadata": {},
   "outputs": [
    {
     "name": "stdout",
     "output_type": "stream",
     "text": [
      "[ 1  2  3  4  5 24 28 32 36 40]\n"
     ]
    }
   ],
   "source": [
    "condition_array = np.where(numbers > 5, numbers*4, numbers)\n",
    "print(condition_array)"
   ]
  },
  {
   "cell_type": "markdown",
   "id": "98db45ae",
   "metadata": {},
   "source": [
    "## Adding and removing data"
   ]
  },
  {
   "cell_type": "code",
   "execution_count": 12,
   "id": "5a2c364c",
   "metadata": {},
   "outputs": [
    {
     "name": "stdout",
     "output_type": "stream",
     "text": [
      "[1 2 3 4 5 6]\n"
     ]
    }
   ],
   "source": [
    "arr1 = np.array([1, 2, 3])\n",
    "arr2 = np.array([4, 5, 6])\n",
    "\n",
    "combined = np.concatenate((arr1, arr2))\n",
    "print(combined)"
   ]
  },
  {
   "cell_type": "markdown",
   "id": "752f849f",
   "metadata": {},
   "source": [
    "## Array Compatibility"
   ]
  },
  {
   "cell_type": "code",
   "execution_count": 14,
   "id": "c5664ca1",
   "metadata": {},
   "outputs": [
    {
     "name": "stdout",
     "output_type": "stream",
     "text": [
      "Compatibility shap True\n"
     ]
    }
   ],
   "source": [
    "a = np.array([1,2,3])\n",
    "b = np.array([4,5,6])\n",
    "c = np.array([7,8,9])\n",
    "\n",
    "print(\"Compatibility shap\", a.shape == b.shape)"
   ]
  },
  {
   "cell_type": "code",
   "execution_count": 24,
   "id": "7e2de4af",
   "metadata": {},
   "outputs": [
    {
     "name": "stdout",
     "output_type": "stream",
     "text": [
      "[[1 2]\n",
      " [3 4]]\n",
      "[[1 2]\n",
      " [3 4]\n",
      " [5 6]\n",
      " [7 8]]\n",
      "With new column : \n",
      "  [[1 2 7]\n",
      " [3 4 9]]\n"
     ]
    }
   ],
   "source": [
    "original = np.array([[1,2],[3,4]])\n",
    "new_row = np.array([[5,6],[7,8]])\n",
    "with_new_row = np.vstack((original, new_row))\n",
    "print(original )\n",
    "print(with_new_row)\n",
    "\n",
    "new_col =np.array([[7], [9]])\n",
    "with_new_col = np.hstack((original , new_col))\n",
    "print(\"With new column : \\n \" , with_new_col)\n"
   ]
  },
  {
   "cell_type": "code",
   "execution_count": 28,
   "id": "d65a3e7a",
   "metadata": {},
   "outputs": [
    {
     "name": "stdout",
     "output_type": "stream",
     "text": [
      "Array after deletion:  [1 2 4 5 6 7 8]\n"
     ]
    }
   ],
   "source": [
    "arr = np.array([1, 2, 3, 4, 5, 6, 7,8])\n",
    "deleted = np.delete(arr, 2)\n",
    "print(\"Array after deletion: \", deleted)"
   ]
  }
 ],
 "metadata": {
  "kernelspec": {
   "display_name": ".venv",
   "language": "python",
   "name": "python3"
  },
  "language_info": {
   "codemirror_mode": {
    "name": "ipython",
    "version": 3
   },
   "file_extension": ".py",
   "mimetype": "text/x-python",
   "name": "python",
   "nbconvert_exporter": "python",
   "pygments_lexer": "ipython3",
   "version": "3.13.1"
  }
 },
 "nbformat": 4,
 "nbformat_minor": 5
}
